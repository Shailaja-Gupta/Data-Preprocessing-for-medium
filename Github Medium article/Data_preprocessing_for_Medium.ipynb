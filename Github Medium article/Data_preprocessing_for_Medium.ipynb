{
 "cells": [
  {
   "cell_type": "markdown",
   "metadata": {},
   "source": [
    "# Importing necessary libraries and packages"
   ]
  },
  {
   "cell_type": "code",
   "execution_count": 1,
   "metadata": {},
   "outputs": [],
   "source": [
    "import pandas as pd\n",
    "import numpy as np"
   ]
  },
  {
   "cell_type": "markdown",
   "metadata": {},
   "source": [
    "### Creating a random database to depict the data cleaning procedures"
   ]
  },
  {
   "cell_type": "code",
   "execution_count": 2,
   "metadata": {},
   "outputs": [],
   "source": [
    "df = pd.DataFrame({\n",
    "    'Default': [1,0,0,0,0,0,1],\n",
    "    'Income': [250000,400000,'NAN',440000,500000,700000,800000],\n",
    "    'Age': [20,30, 40,35,25,40,'NAN'],\n",
    "    'Name':['Allen','Sara','Lily','Rock','David','Rose','Mat'],\n",
    "    'Gender': ['M','F','F','M','M','F','M'],\n",
    "    'Type of job': ['Skilled','Unskilled','Super skilled','Super skilled','NAN','Skilled','Skilled'],\n",
    "    'Amt of credit':['NAN',30000,50000,80000,40000,100000,300000],\n",
    "    'Years employed':[1,10,12,6,4,13,12]})\n",
    "df=df.replace('NAN',np.NaN)\n"
   ]
  },
  {
   "cell_type": "code",
   "execution_count": 3,
   "metadata": {},
   "outputs": [
    {
     "data": {
      "text/html": [
       "<div>\n",
       "<style scoped>\n",
       "    .dataframe tbody tr th:only-of-type {\n",
       "        vertical-align: middle;\n",
       "    }\n",
       "\n",
       "    .dataframe tbody tr th {\n",
       "        vertical-align: top;\n",
       "    }\n",
       "\n",
       "    .dataframe thead th {\n",
       "        text-align: right;\n",
       "    }\n",
       "</style>\n",
       "<table border=\"1\" class=\"dataframe\">\n",
       "  <thead>\n",
       "    <tr style=\"text-align: right;\">\n",
       "      <th></th>\n",
       "      <th>Default</th>\n",
       "      <th>Income</th>\n",
       "      <th>Age</th>\n",
       "      <th>Name</th>\n",
       "      <th>Gender</th>\n",
       "      <th>Type of job</th>\n",
       "      <th>Amt of credit</th>\n",
       "      <th>Years employed</th>\n",
       "    </tr>\n",
       "  </thead>\n",
       "  <tbody>\n",
       "    <tr>\n",
       "      <td>0</td>\n",
       "      <td>1</td>\n",
       "      <td>250000.0</td>\n",
       "      <td>20.0</td>\n",
       "      <td>Allen</td>\n",
       "      <td>M</td>\n",
       "      <td>Skilled</td>\n",
       "      <td>NaN</td>\n",
       "      <td>1</td>\n",
       "    </tr>\n",
       "    <tr>\n",
       "      <td>1</td>\n",
       "      <td>0</td>\n",
       "      <td>400000.0</td>\n",
       "      <td>30.0</td>\n",
       "      <td>Sara</td>\n",
       "      <td>F</td>\n",
       "      <td>Unskilled</td>\n",
       "      <td>30000.0</td>\n",
       "      <td>10</td>\n",
       "    </tr>\n",
       "    <tr>\n",
       "      <td>2</td>\n",
       "      <td>0</td>\n",
       "      <td>NaN</td>\n",
       "      <td>40.0</td>\n",
       "      <td>Lily</td>\n",
       "      <td>F</td>\n",
       "      <td>Super skilled</td>\n",
       "      <td>50000.0</td>\n",
       "      <td>12</td>\n",
       "    </tr>\n",
       "    <tr>\n",
       "      <td>3</td>\n",
       "      <td>0</td>\n",
       "      <td>440000.0</td>\n",
       "      <td>35.0</td>\n",
       "      <td>Rock</td>\n",
       "      <td>M</td>\n",
       "      <td>Super skilled</td>\n",
       "      <td>80000.0</td>\n",
       "      <td>6</td>\n",
       "    </tr>\n",
       "    <tr>\n",
       "      <td>4</td>\n",
       "      <td>0</td>\n",
       "      <td>500000.0</td>\n",
       "      <td>25.0</td>\n",
       "      <td>David</td>\n",
       "      <td>M</td>\n",
       "      <td>NaN</td>\n",
       "      <td>40000.0</td>\n",
       "      <td>4</td>\n",
       "    </tr>\n",
       "    <tr>\n",
       "      <td>5</td>\n",
       "      <td>0</td>\n",
       "      <td>700000.0</td>\n",
       "      <td>40.0</td>\n",
       "      <td>Rose</td>\n",
       "      <td>F</td>\n",
       "      <td>Skilled</td>\n",
       "      <td>100000.0</td>\n",
       "      <td>13</td>\n",
       "    </tr>\n",
       "    <tr>\n",
       "      <td>6</td>\n",
       "      <td>1</td>\n",
       "      <td>800000.0</td>\n",
       "      <td>NaN</td>\n",
       "      <td>Mat</td>\n",
       "      <td>M</td>\n",
       "      <td>Skilled</td>\n",
       "      <td>300000.0</td>\n",
       "      <td>12</td>\n",
       "    </tr>\n",
       "  </tbody>\n",
       "</table>\n",
       "</div>"
      ],
      "text/plain": [
       "   Default    Income   Age   Name Gender    Type of job  Amt of credit  \\\n",
       "0        1  250000.0  20.0  Allen      M        Skilled            NaN   \n",
       "1        0  400000.0  30.0   Sara      F      Unskilled        30000.0   \n",
       "2        0       NaN  40.0   Lily      F  Super skilled        50000.0   \n",
       "3        0  440000.0  35.0   Rock      M  Super skilled        80000.0   \n",
       "4        0  500000.0  25.0  David      M            NaN        40000.0   \n",
       "5        0  700000.0  40.0   Rose      F        Skilled       100000.0   \n",
       "6        1  800000.0   NaN    Mat      M        Skilled       300000.0   \n",
       "\n",
       "   Years employed  \n",
       "0               1  \n",
       "1              10  \n",
       "2              12  \n",
       "3               6  \n",
       "4               4  \n",
       "5              13  \n",
       "6              12  "
      ]
     },
     "execution_count": 3,
     "metadata": {},
     "output_type": "execute_result"
    }
   ],
   "source": [
    "df"
   ]
  },
  {
   "cell_type": "markdown",
   "metadata": {},
   "source": [
    "### Implementing test train split method"
   ]
  },
  {
   "cell_type": "code",
   "execution_count": 4,
   "metadata": {},
   "outputs": [],
   "source": [
    "X=df.drop('Default', axis=1)\n",
    "y=df['Default']\n",
    "# implementing train-test-split\n",
    "from sklearn.model_selection import train_test_split\n"
   ]
  },
  {
   "cell_type": "markdown",
   "metadata": {},
   "source": [
    "### 1.1) Handling missing values"
   ]
  },
  {
   "cell_type": "markdown",
   "metadata": {},
   "source": [
    " Let us use the imputer on numeric and non numeric columns. \n",
    " We will have both types of values in our dataset. We want to replace the numeric missing values with say the median and the "
   ]
  },
  {
   "cell_type": "code",
   "execution_count": 5,
   "metadata": {},
   "outputs": [],
   "source": [
    "#original order of columns\n",
    "cols = X.columns\n",
    "\n",
    "X_numeric=X.select_dtypes(include=['int', 'float']).columns\n",
    "#joined columns numeric and non numeric\n",
    "X_non_numeric=X.select_dtypes(exclude=['int', 'float']).columns\n",
    "new = X_numeric.tolist() + X_non_numeric.tolist()\n",
    "\n",
    "from sklearn.impute import SimpleImputer\n",
    "from sklearn.compose import ColumnTransformer\n",
    "t = [('num', SimpleImputer(strategy='median'), X_numeric),\n",
    "('cat', SimpleImputer(strategy='most_frequent'), X_non_numeric)]\n",
    "transformer = ColumnTransformer(transformers=t, remainder='passthrough')\n",
    "X = transformer.fit_transform(X) #numpy array\n",
    "\n",
    "#DataFrame constructor with new columns names and added reindex for change by original order\n",
    "X = pd.DataFrame(X, columns=new).reindex(cols, axis=1)"
   ]
  },
  {
   "cell_type": "markdown",
   "metadata": {},
   "source": [
    "### 1.2) Handling non-numeric data"
   ]
  },
  {
   "cell_type": "markdown",
   "metadata": {},
   "source": [
    "#### Handling categorical data"
   ]
  },
  {
   "cell_type": "code",
   "execution_count": 6,
   "metadata": {},
   "outputs": [],
   "source": [
    "from sklearn.preprocessing import OneHotEncoder\n",
    "onehotencoder = pd.get_dummies(X['Gender'], drop_first=True)\n",
    "# Drop column non_numeric_col as it is now encoded\n",
    "X = X.drop('Gender',axis = 1)\n",
    "# Join the encoded dataframe to X_train\n",
    "X = X.join(onehotencoder)"
   ]
  },
  {
   "cell_type": "markdown",
   "metadata": {},
   "source": [
    "#### Handling ordinal data"
   ]
  },
  {
   "cell_type": "code",
   "execution_count": 7,
   "metadata": {},
   "outputs": [],
   "source": [
    "X['Type of job'] = X['Type of job'].map( {'Super skilled':3, 'Skilled':2, 'Unskilled':1})\n"
   ]
  },
  {
   "cell_type": "markdown",
   "metadata": {},
   "source": [
    "#### Handling string data"
   ]
  },
  {
   "cell_type": "code",
   "execution_count": 8,
   "metadata": {},
   "outputs": [],
   "source": [
    "cols_remove=['Name']\n",
    "X = X.drop(cols_remove, axis=1)\n"
   ]
  },
  {
   "cell_type": "markdown",
   "metadata": {},
   "source": [
    "### Feature Engineering"
   ]
  },
  {
   "cell_type": "code",
   "execution_count": 9,
   "metadata": {},
   "outputs": [],
   "source": [
    "X['Years employed percent'] = X['Years employed'] / X['Age']\n",
    "X['Credit Income percent'] = X['Amt of credit'] / X['Income']\n"
   ]
  },
  {
   "cell_type": "markdown",
   "metadata": {},
   "source": [
    "### Feature selection"
   ]
  },
  {
   "cell_type": "code",
   "execution_count": 10,
   "metadata": {},
   "outputs": [
    {
     "name": "stdout",
     "output_type": "stream",
     "text": [
      "         Features          Score\n",
      "3   Amt of credit  225657.894737\n",
      "0          Income    1485.955056\n",
      "1             Age       2.699438\n",
      "4  Years employed       1.077586\n",
      "5               M       0.900000\n"
     ]
    }
   ],
   "source": [
    "#Selectkclass\n",
    "from sklearn.datasets import load_iris\n",
    "from sklearn.feature_selection import SelectKBest\n",
    "from sklearn.feature_selection import chi2\n",
    "\n",
    "bestfeatures = SelectKBest(score_func=chi2, k=5)\n",
    "fit = bestfeatures.fit(X,y)\n",
    "dfscores = pd.DataFrame(fit.scores_)\n",
    "dfcolumns = pd.DataFrame(X.columns)\n",
    "#concat two dataframes for better visualization \n",
    "featureScores = pd.concat([dfcolumns,dfscores],axis=1)\n",
    "featureScores.columns = ['Features','Score']  #naming the dataframe columns\n",
    "print(featureScores.nlargest(5,'Score'))  #print 5best features"
   ]
  },
  {
   "cell_type": "markdown",
   "metadata": {},
   "source": [
    "### Implementing test train split on training and test sets"
   ]
  },
  {
   "cell_type": "code",
   "execution_count": 11,
   "metadata": {},
   "outputs": [],
   "source": [
    "X_train, X_test, y_train, y_test = train_test_split(X, y, test_size=0.20, random_state=66)\n"
   ]
  },
  {
   "cell_type": "markdown",
   "metadata": {},
   "source": [
    "### Scaling data"
   ]
  },
  {
   "cell_type": "code",
   "execution_count": 12,
   "metadata": {},
   "outputs": [],
   "source": [
    "from sklearn.preprocessing import StandardScaler\n",
    "\n",
    "sc = StandardScaler()\n",
    "X_train = sc.fit_transform(X_train)\n",
    "X_test=sc.transform(X_test)"
   ]
  }
 ],
 "metadata": {
  "kernelspec": {
   "display_name": "Python 3",
   "language": "python",
   "name": "python3"
  },
  "language_info": {
   "codemirror_mode": {
    "name": "ipython",
    "version": 3
   },
   "file_extension": ".py",
   "mimetype": "text/x-python",
   "name": "python",
   "nbconvert_exporter": "python",
   "pygments_lexer": "ipython3",
   "version": "3.7.4"
  }
 },
 "nbformat": 4,
 "nbformat_minor": 2
}
